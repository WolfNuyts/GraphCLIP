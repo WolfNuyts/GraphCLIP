{
 "cells": [
  {
   "cell_type": "code",
   "execution_count": 1,
   "metadata": {},
   "outputs": [],
   "source": [
    "from jt_training import get_dataloader, train_one_epoch, evaluate, get_free_gpu\n",
    "\n",
    "old_mode = False\n",
    "mode = \"text_embeddings\"\n",
    "\n",
    "def load_model_old(clip_model_type, clip_pretrained_dataset, n_rel_classes, n_obj_classes):\n",
    "    from open_clip.jt_ViT_RelClassifier import ViT_RelClassifier\n",
    "    model = ViT_RelClassifier(n_rel_classes, n_obj_classes, clip_model_type, clip_pretrained_dataset)\n",
    "    prepocess_function = model.preprocess\n",
    "    device = get_free_gpu()\n",
    "    model.to(device)\n",
    "    return model, prepocess_function, device\n",
    "def load_model(clip_model_type, clip_pretrained_dataset, n_rel_classes, n_obj_classes, n_attr_classes, shallow=True, input_mode=\"text_embeddings\"):\n",
    "    from open_clip.jt_ViT_RelClassifier_lightning import ViT_RelClassifier\n",
    "    model = ViT_RelClassifier(n_rel_classes, n_obj_classes, n_attr_classes, clip_model_type, clip_pretrained_dataset, shallow=shallow, mode=input_mode)\n",
    "    prepocess_function = model.preprocess\n",
    "    device = get_free_gpu(min_mem=20000)\n",
    "    print(f\"Using device {device}\")\n",
    "    model.to(device)\n",
    "    return model, prepocess_function, device"
   ]
  },
  {
   "cell_type": "code",
   "execution_count": 2,
   "metadata": {},
   "outputs": [
    {
     "name": "stderr",
     "output_type": "stream",
     "text": [
      "/local/home/jthomm/anaconda3/envs/jtpython2/lib/python3.10/site-packages/tqdm/auto.py:21: TqdmWarning: IProgress not found. Please update jupyter and ipywidgets. See https://ipywidgets.readthedocs.io/en/stable/user_install.html\n",
      "  from .autonotebook import tqdm as notebook_tqdm\n",
      "100%|█████████████████████████████████████| 1.71G/1.71G [00:35<00:00, 47.7MiB/s]\n"
     ]
    },
    {
     "name": "stdout",
     "output_type": "stream",
     "text": [
      "Using text embeddings as input to the model.\n",
      "WARNING: occurence probabilities are not registered yet, but attributes are assumed to work better with a class weighted loss.\n",
      "Using device cuda:4\n",
      "dict_keys(['epoch', 'global_step', 'pytorch-lightning_version', 'state_dict', 'loops', 'callbacks', 'optimizer_states', 'lr_schedulers', 'datamodule_hparams_name', 'datamodule_hyper_parameters'])\n"
     ]
    }
   ],
   "source": [
    "import torch\n",
    "clip_model_type = 'ViT-L-14' # 'ViT-L-14' #'ViT-B/32'\n",
    "clip_pretrained_dataset = 'laion400m_e32' # 'laion2b_s32b_b82k' #'laion400m_e32'\n",
    "image_dir = \"/local/home/jthomm/GraphCLIP/datasets/visual_genome/raw/VG/\"\n",
    "metadata_path = \"/local/home/jthomm/GraphCLIP/datasets/visual_genome/processed/\"\n",
    "\n",
    "if old_mode:\n",
    "    model, prepocess_function, device = load_model_old(clip_model_type, clip_pretrained_dataset, 100, 200)\n",
    "    model.load_state_dict(torch.load(\"/local/home/jthomm/GraphCLIP/experiments/2023-04-16/vision_transformer_0/checkpoints/best_rel_model.pt\"))\n",
    "else:\n",
    "    model, prepocess_function, device = load_model(clip_model_type, clip_pretrained_dataset, 100, 200, 100)\n",
    "    # loaded = torch.load(\"/local/home/jthomm/GraphCLIP/experiments/2023-05-05/vision_transformer_12/best_rel_model.ckpt\")\n",
    "    loaded = torch.load(\"/local/home/jthomm/GraphCLIP/experiments/2023-05-09/vision_transformer_5/best_rel_model.ckpt\", map_location=device)\n",
    "    print(loaded.keys())\n",
    "    model.load_state_dict(loaded['state_dict'])\n",
    "# dataloader_train, dataloader_val = get_dataloader(prepocess_function,metadata_path,image_dir, testing_only=False)"
   ]
  },
  {
   "cell_type": "code",
   "execution_count": null,
   "metadata": {},
   "outputs": [],
   "source": [
    "### load the first batch and show the predictions\n",
    "import torch\n",
    "import matplotlib.pyplot as plt\n",
    "model.eval()\n",
    "for (inputs, bounding_boxes, lrels, lobj1s, lobj2s) in dataloader_val:\n",
    "    rel, obj_1, obj_2 = model(inputs.to(device), bounding_boxes.to(device))\n",
    "    _, rel_preds = torch.max(rel, 1)\n",
    "    _, obj_1_preds = torch.max(obj_1, 1)\n",
    "    _, obj_2_preds = torch.max(obj_2, 1)\n",
    "    print(\"relationship predictions:\", rel_preds)\n",
    "    print(\"object 1 predictions:\", obj_1_preds)\n",
    "    print(\"object 2 predictions:\", obj_2_preds)\n",
    "    break"
   ]
  },
  {
   "attachments": {},
   "cell_type": "markdown",
   "metadata": {},
   "source": [
    "the model doesn't always predict a constant which is very good."
   ]
  },
  {
   "cell_type": "code",
   "execution_count": 3,
   "metadata": {},
   "outputs": [
    {
     "name": "stdout",
     "output_type": "stream",
     "text": [
      "Filtered relationships loaded from file\n",
      "Filtered objects loaded from file\n",
      "Filtered attributes loaded from file\n",
      "Filtered objects loaded from file\n",
      "Filtered relationships loaded from file\n",
      "Filtered objects loaded from file\n",
      "Filtered attributes loaded from file\n",
      "Filtered objects loaded from file\n",
      "103\n"
     ]
    }
   ],
   "source": [
    "from jt_training import get_realistic_graphs_dataset_ViT\n",
    "dataset_orig, dataset_adv, list_to_iterate = get_realistic_graphs_dataset_ViT(prepocess_function, image_dir, mode=mode)\n",
    "print(len(list_to_iterate))"
   ]
  },
  {
   "cell_type": "code",
   "execution_count": 6,
   "metadata": {},
   "outputs": [
    {
     "name": "stdout",
     "output_type": "stream",
     "text": [
      "Filtered relationships loaded from file\n",
      "Filtered objects loaded from file\n",
      "Filtered attributes loaded from file\n",
      "Filtered objects loaded from file\n",
      "Filtered relationships loaded from file\n",
      "Filtered objects loaded from file\n",
      "Filtered attributes loaded from file\n",
      "Filtered objects loaded from file\n"
     ]
    },
    {
     "name": "stderr",
     "output_type": "stream",
     "text": [
      " 16%|█▌        | 16/103 [00:00<00:05, 16.63it/s]"
     ]
    },
    {
     "name": "stdout",
     "output_type": "stream",
     "text": [
      "orig rel: sitting in adv rel: sitting on orig conf: -7.834031105041504 adv conf: -7.642735481262207\n",
      "orig rel: next to adv rel: on orig conf: -6.934695720672607 adv conf: -3.993264675140381\n"
     ]
    },
    {
     "name": "stderr",
     "output_type": "stream",
     "text": [
      " 19%|█▉        | 20/103 [00:01<00:05, 15.98it/s]"
     ]
    },
    {
     "name": "stdout",
     "output_type": "stream",
     "text": [
      "orig rel: next to adv rel: on orig conf: -6.934689044952393 adv conf: -3.9932656288146973\n"
     ]
    },
    {
     "name": "stderr",
     "output_type": "stream",
     "text": [
      " 27%|██▋       | 28/103 [00:01<00:04, 16.71it/s]"
     ]
    },
    {
     "name": "stdout",
     "output_type": "stream",
     "text": [
      "orig rel: in front of adv rel: on orig conf: -5.6098737716674805 adv conf: -2.5107221603393555\n"
     ]
    },
    {
     "name": "stderr",
     "output_type": "stream",
     "text": [
      " 52%|█████▏    | 54/103 [00:03<00:02, 19.43it/s]"
     ]
    },
    {
     "name": "stdout",
     "output_type": "stream",
     "text": [
      "orig rel: on adv rel: above orig conf: -4.416107654571533 adv conf: -1.0609261989593506\n"
     ]
    },
    {
     "name": "stderr",
     "output_type": "stream",
     "text": [
      " 80%|███████▉  | 82/103 [00:04<00:01, 19.18it/s]"
     ]
    },
    {
     "name": "stdout",
     "output_type": "stream",
     "text": [
      "orig rel: on adv rel: behind orig conf: -5.231099605560303 adv conf: -3.944485902786255\n"
     ]
    },
    {
     "name": "stderr",
     "output_type": "stream",
     "text": [
      " 91%|█████████▏| 94/103 [00:05<00:00, 19.46it/s]"
     ]
    },
    {
     "name": "stdout",
     "output_type": "stream",
     "text": [
      "orig rel: behind adv rel: next to orig conf: -3.344350814819336 adv conf: -3.322387218475342\n",
      "orig rel: above adv rel: behind orig conf: -2.1922268867492676 adv conf: 0.4060482382774353\n"
     ]
    },
    {
     "name": "stderr",
     "output_type": "stream",
     "text": [
      " 95%|█████████▌| 98/103 [00:05<00:00, 19.43it/s]"
     ]
    },
    {
     "name": "stdout",
     "output_type": "stream",
     "text": [
      "orig rel: behind adv rel: next to orig conf: -3.3443384170532227 adv conf: -3.3224024772644043\n"
     ]
    },
    {
     "name": "stderr",
     "output_type": "stream",
     "text": [
      "100%|██████████| 103/103 [00:05<00:00, 18.38it/s]"
     ]
    },
    {
     "name": "stdout",
     "output_type": "stream",
     "text": [
      "accuracy: 0.912621359223301\n"
     ]
    },
    {
     "name": "stderr",
     "output_type": "stream",
     "text": [
      "\n"
     ]
    }
   ],
   "source": [
    "import random\n",
    "import PIL\n",
    "from tqdm import tqdm\n",
    "dataset_orig, dataset_adv, list_to_iterate = get_realistic_graphs_dataset_ViT(prepocess_function, image_dir, mode=mode)\n",
    "correct = 0\n",
    "total = 0\n",
    "for d in tqdm(list_to_iterate):\n",
    "    original_graph = d['original_graph']\n",
    "    adv_graph = d['adv_graph']\n",
    "    changed_edge = d['changed_edge']\n",
    "    image_id = original_graph.image_id\n",
    "    if old_mode:\n",
    "        inputs, bounding_boxes, rel_label, obj1_label, obj2_label = dataset_orig.getitem_from_id_edge(image_id, changed_edge)\n",
    "        inputs2,_, rel_label_adv, obj1_label_adv, obj2_label_adv = dataset_adv.getitem_from_id_edge(image_id, changed_edge)\n",
    "        assert (inputs == inputs2).all()\n",
    "    else:\n",
    "        image, full_text_clip_embd, rel_label, obj1_label, obj2_label, attr_label, rel_mask, attr_mask = dataset_orig.getitem_from_id_edge(image_id, changed_edge, mode=mode)\n",
    "        image2, _, rel_label_adv, obj1_label_adv, obj2_label_adv, attr_label_adv, rel_mask_adv, attr_mask_adv = dataset_adv.getitem_from_id_edge(image_id, changed_edge, mode=mode)\n",
    "        assert (image == image2).all()\n",
    "    # print(\"original relationship label:\", rel_label)\n",
    "    # print(\"adversarial relationship label:\", rel_label_adv)\n",
    "    if old_mode:\n",
    "        rel, obj_1, obj_2 = model(inputs.unsqueeze(0).to(device), bounding_boxes.unsqueeze(0).to(device))\n",
    "        rel_adv, obj_1_adv, obj_2_adv = model(inputs.unsqueeze(0).to(device), bounding_boxes.unsqueeze(0).to(device))\n",
    "    else:\n",
    "        # print(full_text_clip_embd.shape)\n",
    "        rel, obj1, obj2, attr = model(image.unsqueeze(0).to(device), full_text_clip_embd.unsqueeze(0).to(device))\n",
    "        rel_adv, obj1_adv, obj2_adv, attr_adv = model(image2.unsqueeze(0).to(device), full_text_clip_embd.unsqueeze(0).to(device))\n",
    "    original_rel_confidence = rel[0][rel_label].item()\n",
    "    adversarial_rel_confidence = rel_adv[0][rel_label_adv].item()\n",
    "    if original_rel_confidence > adversarial_rel_confidence:\n",
    "        correct += 1\n",
    "    else:\n",
    "        rel_name_dict = dataset_orig.rel_classes # a dict with the relationship names as keys and the ids as values\n",
    "        rel_name = [key for key, value in rel_name_dict.items() if value == rel_label][0]\n",
    "        rel_name_adv = [key for key, value in rel_name_dict.items() if value == rel_label_adv][0]\n",
    "        print(\"orig rel:\", rel_name, \"adv rel:\", rel_name_adv, \"orig conf:\", original_rel_confidence, \"adv conf:\", adversarial_rel_confidence)\n",
    "    total += 1\n",
    "    # print(\"original relationship confidence:\", original_rel_confidence)\n",
    "    # print(\"adversarial relationship confidence:\", adversarial_rel_confidence)\n",
    "    # break\n",
    "print(\"accuracy:\", correct/total)"
   ]
  },
  {
   "attachments": {},
   "cell_type": "markdown",
   "metadata": {},
   "source": [
    "## Check how many samples don't have any attribute"
   ]
  },
  {
   "cell_type": "code",
   "execution_count": 3,
   "metadata": {},
   "outputs": [
    {
     "name": "stdout",
     "output_type": "stream",
     "text": [
      "Loading filtered graphs...\n",
      "Done loading filtered graphs.\n",
      "Filtered relationships loaded from file\n",
      "Filtered objects loaded from file\n",
      "Filtered attributes loaded from file\n",
      "Filtered relationships loaded from file\n",
      "Filtered objects loaded from file\n",
      "Filtered attributes loaded from file\n"
     ]
    }
   ],
   "source": [
    "dataloader_train, dataloader_val = get_dataloader(prepocess_function,metadata_path,image_dir, testing_only=False)"
   ]
  },
  {
   "cell_type": "code",
   "execution_count": 9,
   "metadata": {},
   "outputs": [
    {
     "name": "stderr",
     "output_type": "stream",
     "text": [
      "100%|██████████| 3025/3025 [06:18<00:00,  8.00it/s]\n"
     ]
    }
   ],
   "source": [
    "import numpy as np\n",
    "from tqdm import tqdm\n",
    "how_many_attributes = np.zeros(100)\n",
    "for batch in tqdm(dataloader_val):\n",
    "    inputs, bounding_boxes, lrels, lobj1s, lobj2s, lattr, rel_mask = batch\n",
    "    for sample in range(len(lrels)):\n",
    "        attr = lattr[sample]\n",
    "        how_many_attributes[int(torch.sum(attr).item())] += 1"
   ]
  },
  {
   "cell_type": "code",
   "execution_count": 13,
   "metadata": {},
   "outputs": [],
   "source": [
    "how_many_attributes = how_many_attributes[:np.nonzero(how_many_attributes)[0][-1]+1]"
   ]
  },
  {
   "cell_type": "code",
   "execution_count": 15,
   "metadata": {},
   "outputs": [
    {
     "name": "stdout",
     "output_type": "stream",
     "text": [
      "[9.5836e+04 7.0312e+04 1.8396e+04 5.8270e+03 2.1750e+03 7.0300e+02\n",
      " 2.2100e+02 3.7000e+01 3.5000e+01 1.0000e+00]\n",
      "[4.95166449e-01 3.63288778e-01 9.50486455e-02 3.01070046e-02\n",
      " 1.12378128e-02 3.63226776e-03 1.14186512e-03 1.91171988e-04\n",
      " 1.80838367e-04 5.16681048e-06]\n"
     ]
    },
    {
     "data": {
      "image/png": "[encoded data removed]",
      "text/plain": [
       "<Figure size 640x480 with 1 Axes>"
      ]
     },
     "metadata": {},
     "output_type": "display_data"
    }
   ],
   "source": [
    "import matplotlib.pyplot as plt\n",
    "# cut off trailing 0\n",
    "how_many_attributes2 = how_many_attributes[:np.nonzero(how_many_attributes)[0][-1]+1]\n",
    "print(how_many_attributes)\n",
    "print(how_many_attributes/np.sum(how_many_attributes))\n",
    "# print a histogram of the number of attributes per image\n",
    "plt.bar(range(len(how_many_attributes)), how_many_attributes)\n",
    "plt.show()"
   ]
  },
  {
   "attachments": {},
   "cell_type": "markdown",
   "metadata": {},
   "source": [
    "# Check how well a histogram predictor performs"
   ]
  },
  {
   "attachments": {},
   "cell_type": "markdown",
   "metadata": {},
   "source": [
    "### preprocess the filtered graphs"
   ]
  },
  {
   "cell_type": "code",
   "execution_count": 1,
   "metadata": {},
   "outputs": [
    {
     "name": "stdout",
     "output_type": "stream",
     "text": [
      "/local/home/jthomm/GraphCLIP\n"
     ]
    }
   ],
   "source": [
    "import sys\n",
    "from os.path import dirname, abspath\n",
    "import torch\n",
    "d = abspath(dirname('../'))\n",
    "print(d)\n",
    "sys.path.append(d)\n",
    "import random\n",
    "import PIL\n",
    "from tqdm import tqdm\n",
    "from datasets.VG_graphs import get_realistic_graphs_dataset"
   ]
  },
  {
   "cell_type": "code",
   "execution_count": 2,
   "metadata": {},
   "outputs": [],
   "source": [
    "filtered_graphs_path = \"/local/home/jthomm/GraphCLIP/datasets/visual_genome/processed/\"\n",
    "filtered_graphs = filtered_graphs = torch.load(filtered_graphs_path + \"filtered_graphs.pt\")\n",
    "list_to_iterate = get_realistic_graphs_dataset()\n",
    "ids_in_adv = [l['original_graph'].image_id for l in list_to_iterate]"
   ]
  },
  {
   "cell_type": "code",
   "execution_count": 3,
   "metadata": {},
   "outputs": [
    {
     "name": "stderr",
     "output_type": "stream",
     "text": [
      "100%|██████████| 97216/97216 [00:01<00:00, 61986.32it/s]\n"
     ]
    }
   ],
   "source": [
    "from tqdm import tqdm\n",
    "\n",
    "histogram = {}\n",
    "for graph in tqdm(filtered_graphs):\n",
    "    if graph.image_id in ids_in_adv:\n",
    "        continue\n",
    "    for edge in graph.edges:\n",
    "        key = graph.nodes[edge[0]]['name'] + \" \" + graph.nodes[edge[1]]['name']\n",
    "        if key not in histogram:\n",
    "            histogram[key] = [graph.edges[edge]['predicate']]\n",
    "        else:\n",
    "            histogram[key].append(graph.edges[edge]['predicate'])\n",
    "# only keep the most common predicate per edge\n",
    "for key in histogram:\n",
    "    histogram[key] = histogram[key].count # max(set(histogram[key]), key=histogram[key].count)"
   ]
  },
  {
   "cell_type": "code",
   "execution_count": 4,
   "metadata": {},
   "outputs": [
    {
     "name": "stdout",
     "output_type": "stream",
     "text": [
      "accuracy: 0.8543689320388349\n"
     ]
    }
   ],
   "source": [
    "correct = 0\n",
    "total = 0\n",
    "for d in list_to_iterate:\n",
    "    original_graph = d['original_graph']\n",
    "    adv_graph = d['adv_graph']\n",
    "    changed_edge = d['changed_edge']\n",
    "    image_id = original_graph.image_id\n",
    "    edge = original_graph.nodes[changed_edge[0]]['name'] + \" \" + original_graph.nodes[changed_edge[1]]['name']\n",
    "    orig_pred = original_graph.edges[changed_edge]['predicate']\n",
    "    adv_pred = adv_graph.edges[changed_edge]['predicate']\n",
    "\n",
    "    orig_predicate_confidence = histogram[edge](orig_pred)\n",
    "    adv_predicate_confidence = histogram[edge](adv_pred)\n",
    "    if orig_predicate_confidence > adv_predicate_confidence:\n",
    "        correct += 1\n",
    "    total += 1\n",
    "    # print(\"original relationship confidence:\", original_rel_confidence)\n",
    "    # print(\"adversarial relationship confidence:\", adversarial_rel_confidence)\n",
    "    # break\n",
    "print(\"accuracy:\", correct/total)\n"
   ]
  },
  {
   "cell_type": "code",
   "execution_count": null,
   "metadata": {},
   "outputs": [],
   "source": []
  },
  {
   "cell_type": "code",
   "execution_count": null,
   "metadata": {},
   "outputs": [],
   "source": []
  },
  {
   "cell_type": "code",
   "execution_count": null,
   "metadata": {},
   "outputs": [],
   "source": []
  }
 ],
 "metadata": {
  "kernelspec": {
   "display_name": "jtpython",
   "language": "python",
   "name": "python3"
  },
  "language_info": {
   "codemirror_mode": {
    "name": "ipython",
    "version": 3
   },
   "file_extension": ".py",
   "mimetype": "text/x-python",
   "name": "python",
   "nbconvert_exporter": "python",
   "pygments_lexer": "ipython3",
   "version": "3.10.10"
  },
  "orig_nbformat": 4
 },
 "nbformat": 4,
 "nbformat_minor": 2
}
