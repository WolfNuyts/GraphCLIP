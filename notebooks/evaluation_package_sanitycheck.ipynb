{
 "cells": [
  {
   "cell_type": "code",
   "execution_count": 1,
   "metadata": {},
   "outputs": [],
   "source": [
    "import relational_image_generation_evaluation as rige"
   ]
  },
  {
   "cell_type": "code",
   "execution_count": 2,
   "metadata": {},
   "outputs": [
    {
     "name": "stdout",
     "output_type": "stream",
     "text": [
      "Using device cuda:1 for evaluation.\n",
      "Using text embeddings as input to the model.\n",
      "Loading filtered test graphs...\n",
      "Finished loading filtered test graphs\n",
      "Generating one edge graphs...\n"
     ]
    },
    {
     "name": "stderr",
     "output_type": "stream",
     "text": [
      "100%|██████████| 100/100 [00:00<00:00, 1056.99it/s]"
     ]
    },
    {
     "name": "stdout",
     "output_type": "stream",
     "text": [
      "Finished generating one edge graphs\n",
      "Loading filtered test graphs...\n",
      "Finished loading filtered test graphs\n",
      "Generating two edge graphs...\n"
     ]
    },
    {
     "name": "stderr",
     "output_type": "stream",
     "text": [
      "\n",
      "100%|██████████| 100/100 [00:00<00:00, 891.91it/s]\n"
     ]
    },
    {
     "name": "stdout",
     "output_type": "stream",
     "text": [
      "Finished generating two edge graphs\n",
      "Loading filtered test graphs...\n",
      "Finished loading filtered test graphs\n",
      "len(dataloader_one): 837\n",
      "len(dataloader_two): 1076\n"
     ]
    }
   ],
   "source": [
    "evaluator = rige.Evaluator('ViT-L/14')\n",
    "dataloader_one = rige.get_one_edge_dataloader(testonly=True)\n",
    "dataloader_two = rige.get_two_edge_dataloader(testonly=True)\n",
    "dataloader_full = rige.get_full_graph_dataloader(testonly=True)\n",
    "print(\"len(dataloader_one):\", len(dataloader_one))\n",
    "print(\"len(dataloader_two):\", len(dataloader_two))"
   ]
  },
  {
   "cell_type": "code",
   "execution_count": 3,
   "metadata": {},
   "outputs": [],
   "source": [
    "from PIL import Image\n",
    "images = []\n",
    "graphs = []\n",
    "for i in range(10):\n",
    "    graph = next(iter(dataloader_one))[0]\n",
    "    image_id = graph.image_id\n",
    "    IMAGE_DIR = '/local/home/jthomm/GraphCLIP/datasets/visual_genome/raw/VG/'\n",
    "    image = Image.open(IMAGE_DIR + str(image_id) + '.jpg')\n",
    "    images.append(image)\n",
    "    graphs.append(graph)"
   ]
  },
  {
   "cell_type": "code",
   "execution_count": 4,
   "metadata": {},
   "outputs": [
    {
     "name": "stdout",
     "output_type": "stream",
     "text": [
      "{'rel_scores': [0.9963749051094055, 0.9753934741020203, 0.9214745163917542, 0.9958992600440979, 0.8125936388969421, 0.7544750571250916, 0.4216979146003723, 0.9317278861999512, 0.9186421036720276, 0.012344365939497948], 'attr_scores': [0.15855653584003448, 0.7651040554046631, 0.9766125679016113, 0.34666815400123596, 0.18600665032863617, 'noattributes', 0.11902481317520142, 0.25954243540763855, 0.3700721263885498, 0.07474261522293091]}\n",
      "dict_keys(['rel_scores', 'attr_scores'])\n"
     ]
    }
   ],
   "source": [
    "scores = evaluator(images,graphs)\n",
    "print(scores)\n",
    "print(scores.keys())"
   ]
  },
  {
   "cell_type": "code",
   "execution_count": 5,
   "metadata": {},
   "outputs": [],
   "source": [
    "images = []\n",
    "graphs = []\n",
    "for i in range(10):\n",
    "    graph = next(iter(dataloader_two))[0]\n",
    "    assert len(graph.edges) == 2, f\"Graph does not have two edges: {graph.edges}\"\n",
    "    image_id = graph.image_id\n",
    "    IMAGE_DIR = '/local/home/jthomm/GraphCLIP/datasets/visual_genome/raw/VG/'\n",
    "    image = Image.open(IMAGE_DIR + str(image_id) + '.jpg')\n",
    "    # image = image.convert('RGB')\n",
    "    images.append(image)\n",
    "    graphs.append(graph)"
   ]
  },
  {
   "cell_type": "code",
   "execution_count": 6,
   "metadata": {},
   "outputs": [
    {
     "name": "stdout",
     "output_type": "stream",
     "text": [
      "{'rel_scores': [0.9885056614875793, 0.9839268326759338, 8.248157428170089e-07, 0.9772341847419739, 0.9576905965805054, 0.523443341255188, 0.8659615516662598, 0.8880363702774048, 0.8659616112709045, 0.8461143970489502], 'attr_scores': [0.5559964179992676, 'noattributes', 0.24270299077033997, 'noattributes', 0.5323565006256104, 0.6055250763893127, 0.40389275550842285, 0.5705788731575012, 0.40389296412467957, 0.26415884494781494]}\n",
      "dict_keys(['rel_scores', 'attr_scores'])\n"
     ]
    }
   ],
   "source": [
    "scores = evaluator(images,graphs)\n",
    "print(scores)\n",
    "print(scores.keys())"
   ]
  },
  {
   "cell_type": "code",
   "execution_count": 7,
   "metadata": {},
   "outputs": [
    {
     "name": "stdout",
     "output_type": "stream",
     "text": [
      "['noattributes', 0.15855655074119568, 'noattributes', 0.3813652992248535, 'noattributes', 'noattributes', 0.4027596414089203, 0.5549305081367493, 'noattributes', 'noattributes', 0.5059268474578857, 0.34000304341316223, 0.42295584082603455, 0.4038931429386139, 'noattributes', 0.49560895562171936, 0.0864562839269638, 'noattributes', 0.6534953117370605, 0.23712939023971558, 0.028290022164583206, 0.4048355519771576, 'noattributes', 0.40389305353164673, 0.5688793063163757, 'noattributes', 0.568879246711731, 0.714468777179718, 0.29095205664634705, 0.16564823687076569, 0.28223586082458496, 0.5526719689369202, 0.0007241009152494371, 'noattributes', 'noattributes', 'noattributes', 0.06281307339668274, 'noattributes', 0.0477331206202507, 0.13036774098873138, 'noattributes', 0.35067781805992126, 'noattributes', 0.04443687945604324, 0.525521993637085, 0.17989161610603333, 'noattributes', 0.7651039361953735, 0.3132937550544739, 'noattributes', 0.6558380722999573, 0.9041731357574463, 0.2717391848564148, 0.12726141512393951, 'noattributes', 0.3400029242038727, 'noattributes', 0.2671951651573181, 0.9745047688484192, 0.343810498714447, 0.39004281163215637, 0.49560874700546265, 0.036731068044900894, 'noattributes', 'noattributes', 'noattributes', 0.2642763555049896, 0.13122038543224335, 'noattributes', 0.2135550081729889, 0.3813653886318207, 0.4048355519771576, 'noattributes', 0.39027106761932373, 'noattributes', 0.6424161195755005, 0.1303674876689911, 0.2609124183654785, 0.4285374879837036, 0.20979008078575134, 'noattributes', 0.03761499747633934, 0.6983507871627808, 'noattributes', 0.3813653588294983, 0.7833176851272583, 0.5549305081367493, 0.18184351921081543, 0.9852091670036316, 0.112734854221344, 0.13958032429218292, 0.2472565919160843, 0.2633405923843384, 'noattributes', 0.20438550412654877, 0.7651042938232422, 0.06950438022613525, 0.7584972977638245, 0.17042164504528046, 'noattributes', 0.05512956902384758, 0.5032513737678528, 0.3400030732154846, 0.001286021783016622, 'noattributes', 'noattributes', 0.2533169388771057, 0.0642784982919693, 0.00977442879229784, 0.3316536247730255, 0.26566290855407715, 'noattributes', 0.00471207220107317, 0.28263339400291443, 0.05631487816572189, 'noattributes', 'noattributes', 0.385501503944397, 0.24571353197097778, 0.22420915961265564, 'noattributes', 'noattributes', 'noattributes', 0.2841610610485077, 0.07474266737699509, 0.04097620025277138, 'noattributes', 'noattributes', 'noattributes', 'noattributes', 0.46926605701446533, 'noattributes', 0.28559550642967224, 'noattributes', 0.06140999123454094, 0.698350727558136, 0.49440276622772217, 'noattributes', 0.6506177186965942, 0.16834989190101624, 0.48939400911331177, 'noattributes', 'noattributes', 0.7256131768226624, 0.7709708213806152, 0.0007240999257192016, 'noattributes', 0.1367071121931076, 'noattributes', 0.04247488081455231, 'noattributes', 'noattributes', 0.005989280063658953, 0.9766125679016113, 0.42251884937286377, 'noattributes', 0.5559964179992676, 0.8900113701820374, 0.055129483342170715, 0.49976468086242676, 'noattributes', 0.840662956237793, 0.06855889409780502, 0.40389230847358704, 0.9852091670036316, 0.5998290777206421, 0.55433189868927, 'noattributes', 'noattributes', 0.06855892390012741, 0.45577603578567505, 0.2135549783706665, 'noattributes', 0.15818676352500916, 'noattributes', 0.2614213228225708, 0.42853763699531555, 'noattributes', 0.2150290459394455, 0.11543014645576477, 0.4048355221748352, 0.6426600217819214, 'noattributes', 'noattributes', 'noattributes', 0.23783299326896667, 0.10164964944124222, 0.4038925766944885, 0.635845959186554, 0.49835720658302307, 'noattributes', 'noattributes', 'noattributes', 0.032703787088394165, 0.13036756217479706, 'noattributes', 0.2884954810142517, 0.08855576068162918, 'noattributes', 0.3575434982776642, 0.926735520362854, 'noattributes', 0.23034287989139557, 0.0018715583719313145, 'noattributes', 0.29414162039756775, 'noattributes', 'noattributes', 0.6615601778030396, 0.292666494846344, 0.27173957228660583, 'noattributes', 0.213840514421463, 0.008721943944692612, 'noattributes', 0.18989744782447815, 0.4048355519771576, 0.2138405293226242, 'noattributes', 0.2274087816476822, 0.042474836111068726, 0.668769359588623, 'noattributes', 'noattributes', 'noattributes', 0.5977525115013123, 0.34666621685028076, 'noattributes', 'noattributes', 0.49683260917663574, 0.527821958065033, 0.2444470077753067, 0.6983507871627808, 0.23136964440345764, 'noattributes', 'noattributes', 0.4377281069755554, 'noattributes', 'noattributes', 'noattributes', 0.7584974765777588, 'noattributes', 0.539433479309082, 0.2595423758029938, 0.031772226095199585, 0.2855953872203827, 0.8818589448928833, 0.6060563325881958, 0.9404003620147705, 'noattributes', 'noattributes', 0.3795360326766968, 0.500836193561554, 0.27669763565063477, 'noattributes', 0.1127348393201828, 0.4729697108268738, 0.6055251955986023, 0.2604408264160156, 0.0018715576734393835, 'noattributes', 0.39027169346809387, 0.34000304341316223, 0.6687700748443604, 0.3438102602958679, 'noattributes', 'noattributes', 'noattributes', 'noattributes', 'noattributes', 0.49046576023101807, 0.2884954810142517, 0.18087927997112274, 'noattributes', 0.1585564762353897, 'noattributes', 0.3640615940093994, 0.698350727558136, 0.1303674429655075, 0.2303425371646881, 'noattributes', 0.2926665246486664, 0.926735520362854, 0.36406204104423523, 0.5559965372085571, 'noattributes', 0.34225210547447205, 'noattributes', 0.5559965372085571, 0.24571341276168823, 'noattributes', 'noattributes', 0.9001408815383911, 0.1190248429775238, 0.003480879357084632, 0.8619725108146667, 0.8900112509727478, 0.0012860206188634038, 0.0885557234287262, 0.392712265253067]\n",
      "['noattributes', 0.0016073713777586818, 'noattributes', 0.007492192555218935, 'noattributes', 'noattributes', 0.0028557893820106983, 0.04659898951649666, 'noattributes', 'noattributes', 0.04516306146979332, 0.006037730257958174, 0.0033430447801947594, 0.18212825059890747, 'noattributes', 0.013251815922558308, 0.0030894640367478132, 'noattributes', 0.04352179914712906, 2.899891660490539e-05, 0.002587837167084217, 0.003064765827730298, 'noattributes', 0.18212828040122986, 0.03215625882148743, 'noattributes', 0.0017197791021317244, 0.2440953403711319, 0.006694061681628227, 0.001104451366700232, 0.2640076279640198, 0.032424196600914, 0.007134558632969856, 'noattributes', 'noattributes', 'noattributes', 0.06324315071105957, 'noattributes', 2.6713460101746023e-05, 0.007458772975951433, 'noattributes', 0.11415617167949677, 'noattributes', 0.1326034516096115, 0.042162224650382996, 6.503759504994377e-05, 'noattributes', 0.5662880539894104, 0.0009023869060911238, 'noattributes', 0.01624089851975441, 0.010530626401305199, 0.04414314776659012, 0.085288867354393, 'noattributes', 0.006037709768861532, 'noattributes', 0.001902941381558776, 0.012098196893930435, 5.473940109368414e-05, 0.00013958505587652326, 0.0022174951154738665, 3.7611829611705616e-05, 'noattributes', 'noattributes', 'noattributes', 0.040138546377420425, 0.029590463265776634, 'noattributes', 0.015538970939815044, 0.00749220373108983, 0.0009745367569848895, 'noattributes', 0.6521682739257812, 'noattributes', 0.0009832452051341534, 0.007458772975951433, 0.08935330808162689, 0.02960345335304737, 0.00042494252556934953, 'noattributes', 0.009851602837443352, 0.057200875133275986, 'noattributes', 0.007492197677493095, 0.0017582026775926352, 0.046598926186561584, 0.027583910152316093, 0.2788897156715393, 0.006498910486698151, 0.002282507950440049, 0.24692879617214203, 0.003784574568271637, 'noattributes', 0.015104535035789013, 0.4650243818759918, 0.021893642842769623, 0.004909997805953026, 0.05938689783215523, 'noattributes', 0.021558066830039024, 0.01290801726281643, 0.006037722807377577, 0.000606464862357825, 'noattributes', 'noattributes', 0.0036332951858639717, 0.001077683293260634, 0.009673984721302986, 0.12631003558635712, 0.0031142341904342175, 'noattributes', 0.00017410932923667133, 0.27268725633621216, 0.0006424191524274647, 'noattributes', 'noattributes', 0.0001541352685308084, 0.01821301318705082, 0.002560076769441366, 'noattributes', 'noattributes', 'noattributes', 0.011159230954945087, 0.07276064902544022, 0.006036488339304924, 'noattributes', 'noattributes', 'noattributes', 'noattributes', 0.004704364575445652, 'noattributes', 0.011945965699851513, 'noattributes', 0.005416904576122761, 0.05720076337456703, 0.3830665349960327, 'noattributes', 0.08715511858463287, 0.005843534599989653, 0.004449591506272554, 'noattributes', 'noattributes', 0.08143268525600433, 0.7709709405899048, 0.007134566083550453, 'noattributes', 0.013067824766039848, 'noattributes', 0.32160642743110657, 'noattributes', 'noattributes', 3.057422145502642e-05, 0.019465390592813492, 0.0699203759431839, 'noattributes', 0.029897911474108696, 0.03457484394311905, 0.021558085456490517, 0.06384900212287903, 'noattributes', 0.0005655090790241957, 0.09053583443164825, 0.18212834000587463, 0.2788899838924408, 6.099975053075468e-06, 0.5508921146392822, 'noattributes', 'noattributes', 0.0905361920595169, 0.023246092721819878, 0.015538949519395828, 'noattributes', 0.0004428259562700987, 'noattributes', 0.00793756078928709, 0.029603421688079834, 'noattributes', 0.22480422258377075, 0.007234797812998295, 0.0009745367569848895, 0.0554654486477375, 'noattributes', 'noattributes', 'noattributes', 0.061878979206085205, 0.7899448871612549, 0.18212823569774628, 0.15624195337295532, 0.14341948926448822, 'noattributes', 'noattributes', 'noattributes', 0.00025442609330639243, 0.007458765059709549, 'noattributes', 0.008379260078072548, 0.0003200897481292486, 'noattributes', 0.2837732434272766, 0.05181508511304855, 'noattributes', 0.013997823931276798, 0.0001091947196982801, 'noattributes', 0.6641551852226257, 'noattributes', 'noattributes', 0.0956759825348854, 0.0018512662500143051, 0.04414314031600952, 'noattributes', 0.047410912811756134, 0.00026815207093022764, 'noattributes', 0.02445843443274498, 0.0030647586099803448, 0.04741103947162628, 'noattributes', 0.0057253772392869, 0.32160598039627075, 0.00029803431243635714, 'noattributes', 'noattributes', 'noattributes', 0.4503189027309418, 0.011472078040242195, 'noattributes', 'noattributes', 0.004917272832244635, 0.005366688594222069, 0.0035694728139787912, 0.05720086023211479, 0.006972945295274258, 'noattributes', 'noattributes', 0.015222880989313126, 'noattributes', 'noattributes', 'noattributes', 0.004910008981823921, 'noattributes', 0.5460340976715088, 0.02451942302286625, 0.013934163376688957, 0.01194597315043211, 0.0804382786154747, 0.13817445933818817, 0.3408196270465851, 'noattributes', 'noattributes', 0.06626880168914795, 0.028157411143183708, 0.0280776284635067, 'noattributes', 0.006498903967440128, 0.005032836459577084, 0.012607978656888008, 0.018154805526137352, 0.00010919452324742451, 'noattributes', 0.00048649089876562357, 0.006037726067006588, 0.00029803375946357846, 5.473918281495571e-05, 'noattributes', 'noattributes', 'noattributes', 'noattributes', 'noattributes', 0.33549076318740845, 0.008379275910556316, 0.1588340550661087, 'noattributes', 0.04754865914583206, 'noattributes', 0.0020964432042092085, 0.05720090493559837, 0.007458786480128765, 0.01399773359298706, 'noattributes', 0.0018512691603973508, 0.05181506276130676, 0.002096454380080104, 0.029897980391979218, 'noattributes', 0.020749719813466072, 'noattributes', 0.010989897884428501, 0.01821296289563179, 'noattributes', 'noattributes', 0.02537688985466957, 0.2957973778247833, 3.0689329832966905e-06, 0.8619723320007324, 0.0345749594271183, 0.0006064614281058311, 0.00032009038841351867, 0.022028407081961632]\n"
     ]
    }
   ],
   "source": [
    "from PIL import Image\n",
    "\n",
    "images_orig = []\n",
    "graphs_orig = []\n",
    "images_adv = []\n",
    "graphs_adv = []\n",
    "for i in range(300):\n",
    "    graph = next(iter(dataloader_one))[0]\n",
    "    assert len(graph.edges) == 1, f\"Graph does not have one edge: {graph.edges}\"\n",
    "    image_id = graph.image_id\n",
    "    IMAGE_DIR = '/local/home/jthomm/GraphCLIP/datasets/visual_genome/raw/VG/'\n",
    "    image_orig = Image.open(IMAGE_DIR + str(image_id) + '.jpg')\n",
    "    image_adv = Image.open(IMAGE_DIR + str(image_id) + '.jpg')\n",
    "    # image = image.convert('RGB')\n",
    "    images_orig.append(image_orig)\n",
    "    graphs_orig.append(graph)\n",
    "    graph_adv = rige.copy_graph(graph)\n",
    "    # flip the attributes of the two nodes in the graph\n",
    "    [n1,n2] = list(graph_adv.nodes)[0:2]\n",
    "    graph_adv.nodes[n1]['attributes'], graph_adv.nodes[n2]['attributes'] = graph_adv.nodes[n2]['attributes'], graph_adv.nodes[n1]['attributes']\n",
    "    images_adv.append(image_adv)\n",
    "    graphs_adv.append(graph_adv)\n",
    "scores_orig = evaluator(images_orig,graphs_orig)\n",
    "scores_adv = evaluator(images_adv,graphs_adv)\n",
    "print(scores_orig['attr_scores'])\n",
    "print(scores_adv['attr_scores'])"
   ]
  },
  {
   "cell_type": "code",
   "execution_count": 8,
   "metadata": {},
   "outputs": [
    {
     "name": "stdout",
     "output_type": "stream",
     "text": [
      "n_correct: 185, n_incorrect: 15, accuracy: 0.925\n"
     ]
    }
   ],
   "source": [
    "# print how often the model was more confident in the good graph\n",
    "n_good = 0\n",
    "n_bad = 0\n",
    "for orig,adv in zip(scores_orig['attr_scores'],scores_adv['attr_scores']):\n",
    "    if orig == 'noattributes':\n",
    "        continue\n",
    "    if orig == adv:\n",
    "        n_good += 0.5\n",
    "        print(\"warning, this is unlikely to happen\")\n",
    "    elif orig>adv:\n",
    "        n_good += 1\n",
    "    else:\n",
    "        n_bad += 1\n",
    "\n",
    "print(f\"n_correct: {n_good}, n_incorrect: {n_bad}, accuracy: {n_good/(n_good+n_bad)}\")"
   ]
  }
 ],
 "metadata": {
  "kernelspec": {
   "display_name": "evaltestenv",
   "language": "python",
   "name": "python3"
  },
  "language_info": {
   "codemirror_mode": {
    "name": "ipython",
    "version": 3
   },
   "file_extension": ".py",
   "mimetype": "text/x-python",
   "name": "python",
   "nbconvert_exporter": "python",
   "pygments_lexer": "ipython3",
   "version": "3.9.13"
  },
  "orig_nbformat": 4
 },
 "nbformat": 4,
 "nbformat_minor": 2
}
