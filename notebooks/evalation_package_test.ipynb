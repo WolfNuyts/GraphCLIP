{
 "cells": [
  {
   "cell_type": "code",
   "execution_count": 1,
   "metadata": {},
   "outputs": [],
   "source": [
    "import relational_image_generation_evaluation as rige"
   ]
  },
  {
   "cell_type": "code",
   "execution_count": 2,
   "metadata": {},
   "outputs": [
    {
     "name": "stdout",
     "output_type": "stream",
     "text": [
      "Using device cuda:1 for evaluation.\n",
      "Loading filtered test graphs...\n",
      "Finished loading filtered test graphs\n",
      "Generating one edge graphs...\n"
     ]
    },
    {
     "name": "stderr",
     "output_type": "stream",
     "text": [
      "100%|██████████| 100/100 [00:00<00:00, 1211.82it/s]\n"
     ]
    },
    {
     "name": "stdout",
     "output_type": "stream",
     "text": [
      "Finished generating one edge graphs\n",
      "Loading filtered test graphs...\n",
      "Finished loading filtered test graphs\n",
      "Generating two edge graphs...\n"
     ]
    },
    {
     "name": "stderr",
     "output_type": "stream",
     "text": [
      "100%|██████████| 100/100 [00:00<00:00, 947.50it/s]"
     ]
    },
    {
     "name": "stdout",
     "output_type": "stream",
     "text": [
      "Finished generating two edge graphs\n",
      "len(dataloader_one): 837\n",
      "len(dataloader_two): 1076\n"
     ]
    },
    {
     "name": "stderr",
     "output_type": "stream",
     "text": [
      "\n"
     ]
    }
   ],
   "source": [
    "evaluator = rige.Evaluator('ViT-L/14')\n",
    "dataloader_one = rige.get_one_edge_dataloader(testonly=True)\n",
    "dataloader_two = rige.get_two_edge_dataloader(testonly=True)\n",
    "dataloader_full = rige.get_full_graph_dataloader(testonly=True)\n",
    "print(\"len(dataloader_one):\", len(dataloader_one))\n",
    "print(\"len(dataloader_two):\", len(dataloader_two))"
   ]
  },
  {
   "cell_type": "code",
   "execution_count": 3,
   "metadata": {},
   "outputs": [],
   "source": [
    "from PIL import Image\n",
    "images = []\n",
    "graphs = []\n",
    "for i in range(10):\n",
    "    graph = next(iter(dataloader_one))[0]\n",
    "    image_id = graph.image_id\n",
    "    IMAGE_DIR = '/local/home/jthomm/GraphCLIP/datasets/visual_genome/raw/VG/'\n",
    "    image = Image.open(IMAGE_DIR + str(image_id) + '.jpg')\n",
    "    images.append(image)\n",
    "    graphs.append(graph)"
   ]
  },
  {
   "cell_type": "code",
   "execution_count": 4,
   "metadata": {},
   "outputs": [
    {
     "name": "stdout",
     "output_type": "stream",
     "text": [
      "{'rel_scores': [0.6908356547355652, 0.5116413831710815, 0.04193810373544693, 0.6064157485961914, 0.9496923685073853, 0.14458894729614258, 0.46405264735221863, 0.05490296706557274, 0.3069431185722351, 0.9973773956298828], 'attr_scores': ['noattributes', 0.6358119249343872, 0.5330018401145935, 0.9283628463745117, 0.8468342423439026, 'noattributes', 0.9209091067314148, 0.7131649851799011, 0.9490647912025452, 'noattributes']}\n",
      "dict_keys(['rel_scores', 'attr_scores'])\n"
     ]
    }
   ],
   "source": [
    "scores = evaluator(images,graphs)\n",
    "print(scores)\n",
    "print(scores.keys())"
   ]
  },
  {
   "cell_type": "code",
   "execution_count": 5,
   "metadata": {},
   "outputs": [],
   "source": [
    "images = []\n",
    "graphs = []\n",
    "for i in range(10):\n",
    "    graph = next(iter(dataloader_two))[0]\n",
    "    assert len(graph.edges) == 2, f\"Graph does not have two edges: {graph.edges}\"\n",
    "    image_id = graph.image_id\n",
    "    IMAGE_DIR = '/local/home/jthomm/GraphCLIP/datasets/visual_genome/raw/VG/'\n",
    "    image = Image.open(IMAGE_DIR + str(image_id) + '.jpg')\n",
    "    # image = image.convert('RGB')\n",
    "    images.append(image)\n",
    "    graphs.append(graph)"
   ]
  },
  {
   "cell_type": "code",
   "execution_count": 6,
   "metadata": {},
   "outputs": [
    {
     "name": "stdout",
     "output_type": "stream",
     "text": [
      "{'rel_scores': [0.3139377236366272, 0.8993645906448364, 0.8383625745773315, 0.1365509331226349, 0.7768183350563049, 0.6908382177352905, 0.1832142174243927, 0.6684421300888062, 0.03941406309604645, 0.6384907960891724], 'attr_scores': [0.5300025343894958, 'noattributes', 0.49980831146240234, 0.8366420269012451, 0.6743819117546082, 'noattributes', 0.6601665616035461, 0.9565271139144897, 0.5323062539100647, 0.902817964553833]}\n",
      "dict_keys(['rel_scores', 'attr_scores'])\n"
     ]
    }
   ],
   "source": [
    "scores = evaluator(images,graphs)\n",
    "print(scores)\n",
    "print(scores.keys())"
   ]
  },
  {
   "cell_type": "code",
   "execution_count": 3,
   "metadata": {},
   "outputs": [
    {
     "name": "stdout",
     "output_type": "stream",
     "text": [
      "[0.6251007914543152, 'noattributes', 0.9785438179969788, 'noattributes', 'noattributes', 0.9946193695068359, 'noattributes', 'noattributes', 'noattributes', 'noattributes', 0.9359805583953857, 0.6843078136444092, 0.8705612421035767, 0.510028600692749, 0.7090193033218384, 0.2566523551940918, 0.45144718885421753, 0.9655649065971375, 0.6729621887207031, 0.9088230133056641, 'noattributes', 0.5406613349914551, 0.6141828894615173, 0.7482196092605591, 0.4659290015697479, 0.5968430638313293, 0.6970917582511902, 0.7619655132293701, 'noattributes', 0.6219819784164429, 0.14049573242664337, 0.3810161352157593, 0.7985119819641113, 0.8124150633811951, 0.47171831130981445, 'noattributes', 0.6573120951652527, 0.9601491689682007, 'noattributes', 0.7675310373306274, 'noattributes', 0.5094158053398132, 0.9857764840126038, 0.7037944197654724, 0.9821365475654602, 'noattributes', 0.6317881345748901, 0.9613714218139648, 0.809873640537262, 0.9946193695068359, 'noattributes', 0.6988480091094971, 0.6908228397369385, 0.5293535590171814, 'noattributes', 0.8876830339431763, 0.935663640499115, 0.8983844518661499, 0.83478182554245, 0.6505821347236633, 0.6843073964118958, 'noattributes', 0.9565273523330688, 'noattributes', 0.905968427658081, 'noattributes', 0.8655681610107422, 'noattributes', 0.5298710465431213, 'noattributes', 'noattributes', 0.1593146026134491, 'noattributes', 'noattributes', 0.4687623083591461, 'noattributes', 'noattributes', 'noattributes', 0.08509033918380737, 'noattributes', 'noattributes', 'noattributes', 'noattributes', 0.8655682802200317, 0.3961586058139801, 0.6241317391395569, 'noattributes', 0.8727002739906311, 0.9937450289726257, 0.3199332654476166, 0.5007057785987854, 0.4889829158782959, 0.9726356267929077, 0.9565272331237793, 'noattributes', 0.6608462929725647, 'noattributes', 0.6049137711524963, 0.14049547910690308, 0.8811275362968445, 0.8677733540534973, 0.7983464598655701, 0.848507821559906, 0.9565271139144897, 0.4934418499469757, 0.5908651351928711, 'noattributes', 'noattributes', 0.9785438179969788, 0.8320845365524292, 0.11511918902397156, 0.3740859031677246, 'noattributes', 0.5813700556755066, 0.04465378448367119, 0.6141831278800964, 'noattributes', 'noattributes', 0.7160210013389587, 0.6142893433570862, 'noattributes', 'noattributes', 0.5296609997749329, 0.8655683398246765, 'noattributes', 0.9512485265731812, 0.7687581777572632, 0.7688905596733093, 0.4687621295452118, 'noattributes', 0.9695590138435364, 0.3056224584579468, 0.7775181531906128, 'noattributes', 'noattributes', 0.6908218860626221, 0.6092128753662109, 0.9726356267929077, 0.9785438179969788, 0.9661163091659546, 0.7122770547866821, 0.9209088087081909, 0.8806877136230469, 0.4693687856197357, 0.5842843651771545, 0.7134085297584534, 0.6284708976745605, 0.960262656211853, 'noattributes', 'noattributes', 'noattributes', 0.9566787481307983, 'noattributes', 'noattributes', 0.5359477996826172, 'noattributes', 'noattributes', 'noattributes', 0.9088230133056641, 0.989354133605957, 'noattributes', 'noattributes', 0.947579562664032, 'noattributes', 'noattributes', 0.9698829650878906, 0.11511941254138947, 'noattributes', 0.8344686627388, 0.5906714200973511, 0.8304490447044373, 0.8196573853492737, 0.6843078136444092, 'noattributes', 'noattributes', 0.8899744153022766, 'noattributes', 'noattributes', 'noattributes', 0.6761584877967834, 'noattributes', 'noattributes', 0.4763191342353821, 0.9328540563583374, 0.6761584281921387, 0.9655649065971375, 0.9601492285728455, 0.8124160170555115, 0.19760747253894806, 'noattributes', 0.3858906328678131, 'noattributes', 0.5139378309249878, 0.8751657605171204, 'noattributes', 0.6285123825073242, 'noattributes', 0.8029482364654541, 0.7689584493637085, 'noattributes', 0.9158105254173279, 'noattributes', 0.7151703834533691, 0.38844358921051025, 'noattributes', 'noattributes', 'noattributes', 'noattributes', 0.8485081195831299, 0.9416808485984802, 0.9655648469924927, 0.7777209281921387, 'noattributes', 'noattributes', 0.810357391834259, 'noattributes', 0.9695590138435364, 0.7775183320045471, 0.9785438179969788, 0.4490017294883728, 0.7090192437171936, 0.9661163091659546, 'noattributes', 0.6716830134391785, 0.93418288230896, 0.7687580585479736, 0.966892659664154, 'noattributes', 'noattributes', 'noattributes', 0.4942692816257477, 'noattributes', 0.9094109535217285, 0.6330859065055847, 0.46592965722084045, 0.9217215180397034, 'noattributes', 0.49490857124328613, 0.3424595594406128, 'noattributes', 0.8406381607055664, 0.5824793577194214, 0.38589003682136536, 0.9512486457824707, 'noattributes', 0.9946193695068359, 0.4659300744533539, 0.9193173050880432, 'noattributes', 0.7359871864318848, 0.6081731915473938, 'noattributes', 0.3752109408378601, 0.621982216835022, 0.8682660460472107, 0.4540463089942932, 0.7709077596664429, 0.5521655678749084, 'noattributes', 'noattributes', 0.3810165822505951, 0.6425833702087402, 0.5104699730873108, 0.6285122632980347, 'noattributes', 0.6545400619506836, 0.608100175857544, 'noattributes', 0.6505821347236633, 0.8370211720466614, 0.46936875581741333, 0.6027986407279968, 0.49336057901382446, 0.9110991358757019, 0.935663640499115, 'noattributes', 'noattributes', 0.39494022727012634, 0.596842885017395, 'noattributes', 0.30562254786491394, 'noattributes', 'noattributes', 0.6054278612136841, 'noattributes', 'noattributes', 0.5094160437583923, 0.6426292657852173, 'noattributes', 0.6081735491752625, 'noattributes', 0.2716963589191437, 0.93418288230896, 0.1404949277639389, 0.9554561376571655, 0.9887437224388123, 0.8677733540534973, 0.9661163687705994, 'noattributes', 0.7822654843330383]\n",
      "[0.29147371649742126, 'noattributes', 0.708406925201416, 'noattributes', 'noattributes', 0.08108225464820862, 'noattributes', 'noattributes', 'noattributes', 'noattributes', 0.5869348049163818, 0.050169069319963455, 0.5107823610305786, 0.2916005849838257, 0.6139342188835144, 0.12074735760688782, 0.6513384580612183, 0.2444930076599121, 0.4969898462295532, 0.9330776929855347, 'noattributes', 0.3098416328430176, 0.43967753648757935, 0.10446230322122574, 0.2400030791759491, 0.08866564929485321, 0.15915818512439728, 0.4606954753398895, 'noattributes', 0.17848782241344452, 0.009037554264068604, 0.45092272758483887, 0.21142566204071045, 0.07677639275789261, 0.03277195617556572, 'noattributes', 0.6685401797294617, 0.6149992942810059, 'noattributes', 0.7675315737724304, 'noattributes', 0.17034199833869934, 0.03542434796690941, 0.6123558878898621, 0.021935412660241127, 'noattributes', 0.2257424145936966, 0.22203446924686432, 0.5996999740600586, 0.4805275499820709, 'noattributes', 0.6346238255500793, 0.4899093806743622, 0.3813694417476654, 'noattributes', 0.06625431030988693, 0.2792491316795349, 0.08298631012439728, 0.20794467628002167, 0.1497514843940735, 0.03094257414340973, 'noattributes', 0.199198380112648, 'noattributes', 0.8128564357757568, 'noattributes', 0.10591557621955872, 'noattributes', 0.14799989759922028, 'noattributes', 'noattributes', 0.14433647692203522, 'noattributes', 'noattributes', 0.28181299567222595, 'noattributes', 'noattributes', 'noattributes', 0.19024211168289185, 'noattributes', 'noattributes', 'noattributes', 'noattributes', 0.3677006959915161, 0.9887653589248657, 0.14766979217529297, 'noattributes', 0.29293644428253174, 0.00940876267850399, 0.05689144507050514, 0.020240619778633118, 0.3918203115463257, 0.347838431596756, 0.19919751584529877, 'noattributes', 0.20361919701099396, 'noattributes', 0.4931730329990387, 0.009037544950842857, 0.09760721772909164, 0.3860941529273987, 0.34650835394859314, 0.022779693827033043, 0.19919781386852264, 0.25880369544029236, 0.0788913145661354, 'noattributes', 'noattributes', 0.7084066867828369, 0.02418525330722332, 0.6123562455177307, 0.3470907509326935, 'noattributes', 0.5813701152801514, 0.16506482660770416, 0.4396771788597107, 'noattributes', 'noattributes', 0.15128110349178314, 0.5642725825309753, 'noattributes', 'noattributes', 0.14085127413272858, 0.5343057513237, 'noattributes', 0.04518066719174385, 0.49364161491394043, 0.9628871083259583, 0.2818134129047394, 'noattributes', 0.8546826243400574, 0.21993574500083923, 0.37949979305267334, 'noattributes', 'noattributes', 0.4899093806743622, 0.07775484770536423, 0.34783926606178284, 0.7084064483642578, 0.2393546849489212, 0.5964490175247192, 0.23287366330623627, 0.11119181662797928, 0.07635493576526642, 0.23920823633670807, 0.17473956942558289, 0.019249899312853813, 0.04012496769428253, 'noattributes', 'noattributes', 'noattributes', 0.15052291750907898, 'noattributes', 'noattributes', 0.5359476804733276, 'noattributes', 'noattributes', 'noattributes', 0.933077871799469, 0.2866125702857971, 'noattributes', 'noattributes', 0.29716023802757263, 'noattributes', 'noattributes', 0.5842305421829224, 0.5947884917259216, 'noattributes', 0.5583591461181641, 0.2350897341966629, 0.19525271654129028, 0.08880438655614853, 0.03094262070953846, 'noattributes', 'noattributes', 0.5086943507194519, 'noattributes', 'noattributes', 'noattributes', 0.159959077835083, 'noattributes', 'noattributes', 0.014845162630081177, 0.318564236164093, 0.15995898842811584, 0.19134381413459778, 0.6150007843971252, 0.07677610963582993, 0.48987483978271484, 'noattributes', 0.4448082149028778, 'noattributes', 0.12107185274362564, 0.9098796248435974, 'noattributes', 0.04638243839144707, 'noattributes', 0.37371909618377686, 0.10545878857374191, 'noattributes', 0.05906064063310623, 'noattributes', 0.22650189697742462, 0.31192681193351746, 'noattributes', 'noattributes', 'noattributes', 'noattributes', 0.022779706865549088, 0.040361449122428894, 0.7951650619506836, 0.15818728506565094, 'noattributes', 'noattributes', 0.5470114946365356, 'noattributes', 0.854682445526123, 0.37949973344802856, 0.7084062099456787, 0.3555494248867035, 0.6139335036277771, 0.23935380578041077, 'noattributes', 0.43056392669677734, 0.056786756962537766, 0.49364161491394043, 0.3162151873111725, 'noattributes', 'noattributes', 'noattributes', 0.520781397819519, 'noattributes', 0.9410045146942139, 0.8252025842666626, 0.24000349640846252, 0.4430519938468933, 'noattributes', 0.045702043920755386, 0.09533123672008514, 'noattributes', 0.0853305533528328, 0.4080168604850769, 0.8225504755973816, 0.19649529457092285, 'noattributes', 0.07379651069641113, 0.2400021255016327, 0.8892748355865479, 'noattributes', 0.017412854358553886, 0.04470758140087128, 'noattributes', 0.24194501340389252, 0.1784881353378296, 0.008047803305089474, 0.04727054759860039, 0.5173018574714661, 0.4879053235054016, 'noattributes', 'noattributes', 0.4509223401546478, 0.10548114776611328, 0.09489154815673828, 0.04638255015015602, 'noattributes', 0.1122480258345604, 0.09159976989030838, 'noattributes', 0.1497514396905899, 0.055318381637334824, 0.07635512202978134, 0.1755467802286148, 0.26708805561065674, 0.3294559717178345, 0.2792491018772125, 'noattributes', 'noattributes', 0.33903318643569946, 0.08866521716117859, 'noattributes', 0.21993616223335266, 'noattributes', 'noattributes', 0.03689152002334595, 'noattributes', 'noattributes', 0.17034274339675903, 0.33324962854385376, 'noattributes', 0.044707562774419785, 'noattributes', 0.3068341314792633, 0.05678680166602135, 0.009037520736455917, 0.1256730705499649, 0.2523428797721863, 0.3860940933227539, 0.23935315012931824, 'noattributes', 0.1787695288658142]\n",
      "n_correct: 177, n_incorrect: 22, accuracy: 0.8894472361809045\n"
     ]
    }
   ],
   "source": [
    "from PIL import Image\n",
    "\n",
    "images_orig = []\n",
    "graphs_orig = []\n",
    "images_adv = []\n",
    "graphs_adv = []\n",
    "for i in range(300):\n",
    "    graph = next(iter(dataloader_one))[0]\n",
    "    assert len(graph.edges) == 1, f\"Graph does not have one edge: {graph.edges}\"\n",
    "    image_id = graph.image_id\n",
    "    IMAGE_DIR = '/local/home/jthomm/GraphCLIP/datasets/visual_genome/raw/VG/'\n",
    "    image_orig = Image.open(IMAGE_DIR + str(image_id) + '.jpg')\n",
    "    image_adv = Image.open(IMAGE_DIR + str(image_id) + '.jpg')\n",
    "    # image = image.convert('RGB')\n",
    "    images_orig.append(image_orig)\n",
    "    graphs_orig.append(graph)\n",
    "    graph_adv = rige.copy_graph(graph)\n",
    "    # flip the attributes of the two nodes in the graph\n",
    "    [n1,n2] = list(graph_adv.nodes)[0:2]\n",
    "    graph_adv.nodes[n1]['attributes'], graph_adv.nodes[n2]['attributes'] = graph_adv.nodes[n2]['attributes'], graph_adv.nodes[n1]['attributes']\n",
    "    images_adv.append(image_adv)\n",
    "    graphs_adv.append(graph_adv)\n",
    "scores_orig = evaluator(images_orig,graphs_orig)\n",
    "scores_adv = evaluator(images_adv,graphs_adv)\n",
    "print(scores_orig['attr_scores'])\n",
    "print(scores_adv['attr_scores'])"
   ]
  },
  {
   "cell_type": "code",
   "execution_count": 4,
   "metadata": {},
   "outputs": [
    {
     "name": "stdout",
     "output_type": "stream",
     "text": [
      "n_correct: 177, n_incorrect: 22, accuracy: 0.8894472361809045\n"
     ]
    }
   ],
   "source": [
    "# print how often the model was more confident in the good graph\n",
    "n_good = 0\n",
    "n_bad = 0\n",
    "for orig,adv in zip(scores_orig['attr_scores'],scores_adv['attr_scores']):\n",
    "    if orig == 'noattributes':\n",
    "        continue\n",
    "    if orig == adv:\n",
    "        n_good += 0.5\n",
    "        print(\"warning, this is unlikely to happen\")\n",
    "    elif orig>adv:\n",
    "        n_good += 1\n",
    "    else:\n",
    "        n_bad += 1\n",
    "\n",
    "print(f\"n_correct: {n_good}, n_incorrect: {n_bad}, accuracy: {n_good/(n_good+n_bad)}\")"
   ]
  },
  {
   "cell_type": "code",
   "execution_count": null,
   "metadata": {},
   "outputs": [],
   "source": []
  }
 ],
 "metadata": {
  "kernelspec": {
   "display_name": "evaltestenv",
   "language": "python",
   "name": "python3"
  },
  "language_info": {
   "codemirror_mode": {
    "name": "ipython",
    "version": 3
   },
   "file_extension": ".py",
   "mimetype": "text/x-python",
   "name": "python",
   "nbconvert_exporter": "python",
   "pygments_lexer": "ipython3",
   "version": "3.9.13"
  },
  "orig_nbformat": 4
 },
 "nbformat": 4,
 "nbformat_minor": 2
}
