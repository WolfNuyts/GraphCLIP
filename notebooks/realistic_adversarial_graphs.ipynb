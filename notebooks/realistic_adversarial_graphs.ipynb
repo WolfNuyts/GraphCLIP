{
 "cells": [
  {
   "attachments": {},
   "cell_type": "markdown",
   "metadata": {},
   "source": [
    "# This Notbebook takes as input a graph, and outputs "
   ]
  },
  {
   "cell_type": "code",
   "execution_count": 1,
   "metadata": {},
   "outputs": [
    {
     "name": "stdout",
     "output_type": "stream",
     "text": [
      "Filtered graphs loaded from file\n",
      "Filtered relationships loaded from file\n",
      "Filtered objects loaded from file\n",
      "Filtered attributes loaded from file\n"
     ]
    }
   ],
   "source": [
    "from VG_graphs import get_filtered_graphs, get_filtered_relationships, get_filtered_objects, get_filtered_attributes\n",
    "\n",
    "filtered_graphs = get_filtered_graphs()\n",
    "relationship_labels = get_filtered_relationships()\n",
    "object_labels = get_filtered_objects()\n",
    "attribute_labels = get_filtered_attributes()"
   ]
  },
  {
   "cell_type": "code",
   "execution_count": 2,
   "metadata": {},
   "outputs": [
    {
     "data": {
      "application/vnd.jupyter.widget-view+json": {
       "model_id": "97bc50baf7454e7aa4d11448963b6414",
       "version_major": 2,
       "version_minor": 0
      },
      "text/plain": [
       "Text(value='/local/home/stuff/visual-genome/VG/402.jpg', description='Image:', disabled=True)"
      ]
     },
     "metadata": {},
     "output_type": "display_data"
    },
    {
     "data": {
      "application/vnd.jupyter.widget-view+json": {
       "model_id": "8f8a14ffa16d415ab8dae13faa33bd6f",
       "version_major": 2,
       "version_minor": 0
      },
      "text/plain": [
       "Image(value=b'\\xff\\xd8\\xff\\xe0\\x00\\x10JFIF\\x00\\x01\\x01\\x00\\x00\\x01\\x00\\x01\\x00\\x00\\xff\\xdb\\x00C\\x00\\x08\\x06\\x0…"
      ]
     },
     "metadata": {},
     "output_type": "display_data"
    },
    {
     "data": {
      "application/vnd.jupyter.widget-view+json": {
       "model_id": "e5f17140688b47eb82fde01ad0bc831b",
       "version_major": 2,
       "version_minor": 0
      },
      "text/plain": [
       "VBox()"
      ]
     },
     "metadata": {},
     "output_type": "display_data"
    },
    {
     "data": {
      "application/vnd.jupyter.widget-view+json": {
       "model_id": "141b26b54a194874b538bda05805fa12",
       "version_major": 2,
       "version_minor": 0
      },
      "text/plain": [
       "Button(description='Next', style=ButtonStyle())"
      ]
     },
     "metadata": {},
     "output_type": "display_data"
    },
    {
     "data": {
      "application/vnd.jupyter.widget-view+json": {
       "model_id": "5746793c7ea14c7eaf04aa47831a880d",
       "version_major": 2,
       "version_minor": 0
      },
      "text/plain": [
       "Button(description='Save', style=ButtonStyle())"
      ]
     },
     "metadata": {},
     "output_type": "display_data"
    }
   ],
   "source": [
    "import os\n",
    "import ipywidgets as widgets\n",
    "from IPython.display import display, clear_output\n",
    "from VG_graphs.realistic_adversarial import convert_all_adversarially_realistic\n",
    "from PIL import Image\n",
    "import random\n",
    "import torch\n",
    "\n",
    "# set the random seed\n",
    "random.seed(42)\n",
    "\n",
    "shuffled_graphs = filtered_graphs.copy()\n",
    "random.shuffle(shuffled_graphs)\n",
    "\n",
    "image_dir = \"/local/home/stuff/visual-genome/VG/\"\n",
    "metadata_path = \"/local/home/jthomm/GraphCLIP/datasets/visual_genome/processed/\"\n",
    "try:\n",
    "    curated_adversarial = torch.load(metadata_path + \"curated_adversarial.pt\") # a dict with image_id as key and a graph and the adversarial perturbations as value\n",
    "    shuffled_graphs = [g for g in shuffled_graphs if g.image_id not in curated_adversarial.keys()]\n",
    "except:\n",
    "    curated_adversarial = {}\n",
    "\n",
    "# Define your image list and corresponding options\n",
    "image_list = [image_dir + f'{g.image_id}.jpg' for g in shuffled_graphs]\n",
    "def options_list(index):\n",
    "    g = shuffled_graphs[index]\n",
    "    adv_perturbations = convert_all_adversarially_realistic(g, relationship_labels)\n",
    "    res = []\n",
    "    for adv_perturbation in adv_perturbations:\n",
    "        graph_edge = adv_perturbation[0]\n",
    "        subject = g.nodes[graph_edge[0]]['name']\n",
    "        object = g.nodes[graph_edge[1]]['name']\n",
    "        predicate = g.edges[graph_edge]['predicate']\n",
    "        adv_predicates = adv_perturbation[1]\n",
    "        for adv_predicate in adv_predicates:\n",
    "            # res.append((f'{subject} {predicate} {object} -> {subject} {adv_predicate} {object}',(g,graph_edge,adv_predicate)))\n",
    "            res.append((f'{subject} {adv_predicate} {object}',(g,graph_edge,adv_predicate)))\n",
    "    return res[:15]\n",
    "\n",
    "\n",
    "# Store the selections in an array\n",
    "selections = []\n",
    "\n",
    "def load_image(file_path):\n",
    "    with open(file_path, \"rb\") as f:\n",
    "        return f.read()\n",
    "\n",
    "# Define the functions to handle button clicks\n",
    "def on_next_button_click(button):\n",
    "    # Get the selected options\n",
    "    selected_options = [cb.metadata for cb in checkboxes if cb.value]\n",
    "    \n",
    "    # Store the selections along with the current image\n",
    "    selections.append((current_image.value, selected_options))\n",
    "    \n",
    "    # Go to the next image\n",
    "    current_index = image_list.index(current_image.value)\n",
    "    while current_index + 1 < len(image_list):\n",
    "        if shuffled_graphs[current_index].image_id in curated_adversarial:\n",
    "            current_index += 1\n",
    "            continue\n",
    "        current_image.value = image_list[current_index + 1]\n",
    "        current_image_widget.value = load_image(current_image.value)\n",
    "        update_checkboxes()\n",
    "        break\n",
    "    if current_index + 1 == len(image_list):\n",
    "        print(\"Finished!\")\n",
    "        print(\"Selections:\", selections)\n",
    "        next_button.disabled = True\n",
    "\n",
    "def on_save_button_click(button):\n",
    "    # first call on_next_button_click to save the last selection\n",
    "    on_next_button_click(next_button)\n",
    "    # save the selections to curated_adversarial.pt\n",
    "    for selection in selections:\n",
    "        image_id = int(selection[0].split('/')[-1].split('.')[0])\n",
    "        if image_id not in curated_adversarial:\n",
    "            curated_adversarial[image_id] = []\n",
    "        curated_adversarial[image_id].extend(selection[1])\n",
    "    torch.save(curated_adversarial, metadata_path + \"curated_adversarial.pt\")\n",
    "\n",
    "def update_checkboxes():\n",
    "    current_index = image_list.index(current_image.value)\n",
    "    current_options = options_list(current_index)\n",
    "    \n",
    "    # Create new checkboxes\n",
    "    new_checkboxes = [widgets.Checkbox(description=option[0], value=False) for option in current_options]\n",
    "    for cb, option in zip(new_checkboxes, current_options):\n",
    "        cb.metadata = option[1]\n",
    "        \n",
    "    # delete the old checkboxes from the VBox\n",
    "    checkbox_vbox.children = tuple()\n",
    "    # Update the VBox with the new checkboxes\n",
    "    checkbox_vbox.children = tuple(new_checkboxes)\n",
    "    global checkboxes\n",
    "    # delete the old checkboxes\n",
    "    for cb in checkboxes:\n",
    "        cb.close()\n",
    "    del checkboxes\n",
    "    checkboxes = new_checkboxes\n",
    "\n",
    "# Create widgets\n",
    "current_image = widgets.Text(value=image_list[0], description='Image:', disabled=True)\n",
    "current_image_widget = widgets.Image(value=load_image(image_list[0]), format='png', width=400, height=400)\n",
    "checkboxes = [widgets.Checkbox(description=option[0], value=False) for option in options_list(0)]\n",
    "for cb, option in zip(checkboxes, options_list(0)):\n",
    "    cb.metadata = option[1]\n",
    "checkbox_vbox = widgets.VBox()\n",
    "next_button = widgets.Button(description=\"Next\")\n",
    "next_button.on_click(on_next_button_click)\n",
    "save_button = widgets.Button(description=\"Save\")\n",
    "save_button.on_click(on_save_button_click)\n",
    "\n",
    "# Display widgets\n",
    "display(current_image)\n",
    "display(current_image_widget)\n",
    "display(checkbox_vbox)\n",
    "update_checkboxes()\n",
    "display(next_button)\n",
    "display(save_button)\n"
   ]
  },
  {
   "cell_type": "code",
   "execution_count": 4,
   "metadata": {},
   "outputs": [
    {
     "name": "stdout",
     "output_type": "stream",
     "text": [
      "51\n"
     ]
    }
   ],
   "source": [
    "import torch\n",
    "metadata_path = \"/local/home/jthomm/GraphCLIP/datasets/visual_genome/processed/\"\n",
    "curated_adversarialt = torch.load(metadata_path + \"curated_adversarial.pt\") # a dict with image_id as key and a graph and the adversarial perturbations as value\n",
    "curated_adversarialt = {k: v for k, v in curated_adversarialt.items() if len(v) > 0}\n",
    "print(len(curated_adversarialt))\n"
   ]
  },
  {
   "cell_type": "code",
   "execution_count": 4,
   "metadata": {},
   "outputs": [
    {
     "name": "stdout",
     "output_type": "stream",
     "text": [
      "2335263 2335263\n"
     ]
    }
   ],
   "source": [
    "import VG_graphs.realistic_adversarial as ra \n",
    "dataset = ra.get_realistic_graphs_dataset()\n",
    "print(dataset[0][0].image_id,dataset[0][1].image_id)"
   ]
  },
  {
   "cell_type": "code",
   "execution_count": null,
   "metadata": {},
   "outputs": [],
   "source": []
  }
 ],
 "metadata": {
  "kernelspec": {
   "display_name": "jtpython",
   "language": "python",
   "name": "python3"
  },
  "language_info": {
   "codemirror_mode": {
    "name": "ipython",
    "version": 3
   },
   "file_extension": ".py",
   "mimetype": "text/x-python",
   "name": "python",
   "nbconvert_exporter": "python",
   "pygments_lexer": "ipython3",
   "version": "3.10.9"
  },
  "orig_nbformat": 4
 },
 "nbformat": 4,
 "nbformat_minor": 2
}
