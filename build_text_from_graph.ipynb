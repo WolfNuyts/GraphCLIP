{
 "cells": [
  {
   "cell_type": "code",
   "execution_count": 3,
   "metadata": {},
   "outputs": [
    {
     "ename": "PermissionError",
     "evalue": "[Errno 13] Permission denied: '/local/home/stuff/visual-genome/by-id/'",
     "output_type": "error",
     "traceback": [
      "\u001b[0;31m---------------------------------------------------------------------------\u001b[0m",
      "\u001b[0;31mPermissionError\u001b[0m                           Traceback (most recent call last)",
      "Cell \u001b[0;32mIn[3], line 7\u001b[0m\n\u001b[1;32m      3\u001b[0m DATA_PATH \u001b[39m=\u001b[39m \u001b[39m'\u001b[39m\u001b[39m/local/home/stuff/visual-genome/\u001b[39m\u001b[39m'\u001b[39m\n\u001b[1;32m      5\u001b[0m \u001b[39m# Convert full .json files to image-specific .jsons, save these to 'data/by-id'.\u001b[39;00m\n\u001b[1;32m      6\u001b[0m \u001b[39m# These files will take up a total ~1.1G space on disk.\u001b[39;00m\n\u001b[0;32m----> 7\u001b[0m vg\u001b[39m.\u001b[39;49msave_scene_graphs_by_id(data_dir\u001b[39m=\u001b[39;49mDATA_PATH, image_data_dir\u001b[39m=\u001b[39;49mDATA_PATH \u001b[39m+\u001b[39;49m \u001b[39m'\u001b[39;49m\u001b[39mby-id/\u001b[39;49m\u001b[39m'\u001b[39;49m)\n\u001b[1;32m      9\u001b[0m \u001b[39m# Load scene graphs in 'data/by-id', from index 0 to 200.\u001b[39;00m\n\u001b[1;32m     10\u001b[0m \u001b[39m# We'll only keep scene graphs with at least 1 relationship.\u001b[39;00m\n\u001b[1;32m     11\u001b[0m scene_graphs \u001b[39m=\u001b[39m vg\u001b[39m.\u001b[39mget_scene_graphs(start_index\u001b[39m=\u001b[39m\u001b[39m0\u001b[39m, end_index\u001b[39m=\u001b[39m\u001b[39m-\u001b[39m\u001b[39m1\u001b[39m, min_rels\u001b[39m=\u001b[39m\u001b[39m1\u001b[39m,\n\u001b[1;32m     12\u001b[0m                                    data_dir\u001b[39m=\u001b[39mDATA_PATH, image_data_dir\u001b[39m=\u001b[39mDATA_PATH \u001b[39m+\u001b[39m \u001b[39m'\u001b[39m\u001b[39mby-id/\u001b[39m\u001b[39m'\u001b[39m)\n",
      "File \u001b[0;32m~/anaconda3/envs/jtpython/lib/python3.10/site-packages/visual_genome/local.py:237\u001b[0m, in \u001b[0;36msave_scene_graphs_by_id\u001b[0;34m(data_dir, image_data_dir)\u001b[0m\n\u001b[1;32m    221\u001b[0m \u001b[39m\u001b[39m\u001b[39m\"\"\"\u001b[39;00m\n\u001b[1;32m    222\u001b[0m \u001b[39mSave a separate .json file for each image id in `image_data_dir`.\u001b[39;00m\n\u001b[1;32m    223\u001b[0m \n\u001b[0;32m   (...)\u001b[0m\n\u001b[1;32m    234\u001b[0m \u001b[39m  - \"relationships\"\u001b[39;00m\n\u001b[1;32m    235\u001b[0m \u001b[39m\"\"\"\u001b[39;00m\n\u001b[1;32m    236\u001b[0m \u001b[39mif\u001b[39;00m \u001b[39mnot\u001b[39;00m os\u001b[39m.\u001b[39mpath\u001b[39m.\u001b[39mexists(image_data_dir):\n\u001b[0;32m--> 237\u001b[0m     os\u001b[39m.\u001b[39;49mmkdir(image_data_dir)\n\u001b[1;32m    239\u001b[0m all_data \u001b[39m=\u001b[39m json\u001b[39m.\u001b[39mload(\u001b[39mopen\u001b[39m(os\u001b[39m.\u001b[39mpath\u001b[39m.\u001b[39mjoin(data_dir, \u001b[39m'\u001b[39m\u001b[39mscene_graphs.json\u001b[39m\u001b[39m'\u001b[39m)))\n\u001b[1;32m    240\u001b[0m bar \u001b[39m=\u001b[39m progressbar\u001b[39m.\u001b[39mProgressBar()\n",
      "\u001b[0;31mPermissionError\u001b[0m: [Errno 13] Permission denied: '/local/home/stuff/visual-genome/by-id/'"
     ]
    }
   ],
   "source": [
    "import visual_genome.local as vg\n",
    " \n",
    "DATA_PATH = '/local/home/stuff/visual-genome/'\n",
    "\n",
    "# Convert full .json files to image-specific .jsons, save these to 'data/by-id'.\n",
    "# These files will take up a total ~1.1G space on disk.\n",
    "vg.save_scene_graphs_by_id(data_dir=DATA_PATH, image_data_dir=DATA_PATH + 'by-id/')\n",
    "\n",
    "# Load scene graphs in 'data/by-id', from index 0 to 200.\n",
    "# We'll only keep scene graphs with at least 1 relationship.\n",
    "scene_graphs = vg.get_scene_graphs(start_index=0, end_index=-1, min_rels=1,\n",
    "                                   data_dir=DATA_PATH, image_data_dir=DATA_PATH + 'by-id/')"
   ]
  },
  {
   "cell_type": "code",
   "execution_count": null,
   "metadata": {},
   "outputs": [],
   "source": []
  }
 ],
 "metadata": {
  "kernelspec": {
   "display_name": "jtpython",
   "language": "python",
   "name": "python3"
  },
  "language_info": {
   "codemirror_mode": {
    "name": "ipython",
    "version": 3
   },
   "file_extension": ".py",
   "mimetype": "text/x-python",
   "name": "python",
   "nbconvert_exporter": "python",
   "pygments_lexer": "ipython3",
   "version": "3.10.9"
  },
  "orig_nbformat": 4
 },
 "nbformat": 4,
 "nbformat_minor": 2
}
