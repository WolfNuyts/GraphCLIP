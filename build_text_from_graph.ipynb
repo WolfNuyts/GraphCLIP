{
 "cells": [
  {
   "cell_type": "code",
   "execution_count": null,
   "metadata": {},
   "outputs": [],
   "source": [
    "import visual_genome.local as vg\n",
    " \n",
    "DATA_PATH = '/local/home/stuff/visual-genome/'\n",
    "\n",
    "# Convert full .json files to image-specific .jsons, save these to 'data/by-id'.\n",
    "# These files will take up a total ~1.1G space on disk.\n",
    "vg.save_scene_graphs_by_id(data_dir=DATA_PATH, image_data_dir=DATA_PATH + 'by-id/')\n",
    "\n",
    "# Load scene graphs in 'data/by-id', from index 0 to 200.\n",
    "# We'll only keep scene graphs with at least 1 relationship.\n",
    "scene_graphs = vg.get_scene_graphs(start_index=0, end_index=-1, min_rels=1,\n",
    "                                   data_dir=DATA_PATH, image_data_dir=DATA_PATH + 'by-id/')"
   ]
  },
  {
   "cell_type": "code",
   "execution_count": null,
   "metadata": {},
   "outputs": [],
   "source": []
  }
 ],
 "metadata": {
  "kernelspec": {
   "display_name": "jtpython",
   "language": "python",
   "name": "python3"
  },
  "language_info": {
   "codemirror_mode": {
    "name": "ipython",
    "version": 3
   },
   "file_extension": ".py",
   "mimetype": "text/x-python",
   "name": "python",
   "nbconvert_exporter": "python",
   "pygments_lexer": "ipython3",
   "version": "3.10.9"
  },
  "orig_nbformat": 4
 },
 "nbformat": 4,
 "nbformat_minor": 2
}
