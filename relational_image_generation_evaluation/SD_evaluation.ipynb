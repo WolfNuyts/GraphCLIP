{
 "cells": [
  {
   "attachments": {},
   "cell_type": "markdown",
   "metadata": {},
   "source": [
    "# Usage suggestions for this python package"
   ]
  },
  {
   "attachments": {},
   "cell_type": "markdown",
   "metadata": {},
   "source": [
    "First install the package:\n",
    "\n",
    "Activate the python environment you want to use. Go into the folder of this notebook, where setup.py located is, and run \n",
    "\n",
    "`pip install -e .`"
   ]
  },
  {
   "cell_type": "code",
   "execution_count": 1,
   "metadata": {},
   "outputs": [],
   "source": [
    "import relational_image_generation_evaluation as rige"
   ]
  },
  {
   "cell_type": "code",
   "execution_count": 2,
   "metadata": {},
   "outputs": [
    {
     "name": "stdout",
     "output_type": "stream",
     "text": [
      "Using device cuda:1 for evaluation.\n",
      "Loading filtered test graphs...\n",
      "Finished loading filtered test graphs\n",
      "Generating one edge graphs...\n"
     ]
    },
    {
     "name": "stderr",
     "output_type": "stream",
     "text": [
      "100%|██████████| 100/100 [00:00<00:00, 1132.28it/s]\n"
     ]
    },
    {
     "name": "stdout",
     "output_type": "stream",
     "text": [
      "Finished generating one edge graphs\n",
      "Loading filtered test graphs...\n",
      "Finished loading filtered test graphs\n",
      "Generating two edge graphs...\n"
     ]
    },
    {
     "name": "stderr",
     "output_type": "stream",
     "text": [
      "100%|██████████| 100/100 [00:00<00:00, 900.69it/s]"
     ]
    },
    {
     "name": "stdout",
     "output_type": "stream",
     "text": [
      "Finished generating two edge graphs\n",
      "len(dataloader_one): 837\n",
      "len(dataloader_two): 1076\n"
     ]
    },
    {
     "name": "stderr",
     "output_type": "stream",
     "text": [
      "\n"
     ]
    }
   ],
   "source": [
    "evaluator = rige.Evaluator('ViT-B/32')\n",
    "# testonly just makes loading faster, to actually test the model you need to set testonly=False\n",
    "# this is not the test set or so. It's just a flag to make loading faster\n",
    "dataloader_one = rige.get_one_edge_dataloader(testonly=True)\n",
    "dataloader_two = rige.get_two_edge_dataloader(testonly=True)\n",
    "print(\"len(dataloader_one):\", len(dataloader_one))\n",
    "print(\"len(dataloader_two):\", len(dataloader_two))"
   ]
  },
  {
   "attachments": {},
   "cell_type": "markdown",
   "metadata": {},
   "source": [
    "**The dataloaders give you networkx graphs as they have convenient functionality.**\n",
    "\n",
    "**You can access all scene information like this (images have to be loaded using PATH_TO_VG/image_id.jpg):**"
   ]
  },
  {
   "cell_type": "code",
   "execution_count": 3,
   "metadata": {},
   "outputs": [
    {
     "name": "stdout",
     "output_type": "stream",
     "text": [
      "nodes: [1025157, 1025159, 5890]\n",
      "edges: [(1025159, 1025157), (5890, 1025157)]\n",
      "some edge: (1025159, 1025157) edge predicate: on\n",
      "some node: 1025157 node label: wall\n",
      "dict_keys(['w', 'h', 'x', 'y', 'attributes', 'name'])\n",
      "dict_keys(['synsets', 'relationship_id', 'predicate'])\n",
      "image_id: 39\n",
      "image dimensions: 800 534\n"
     ]
    }
   ],
   "source": [
    "some_graph = next(iter(dataloader_two))[0]\n",
    "print(\"nodes:\", some_graph.nodes)\n",
    "print(\"edges:\", some_graph.edges)\n",
    "edge = list(some_graph.edges)[0]\n",
    "print(\"some edge:\", edge, \"edge predicate:\", some_graph.edges[edge]['predicate'])\n",
    "node = list(some_graph.nodes)[0]\n",
    "print(\"some node:\", node, \"node label:\", some_graph.nodes[node]['name'])\n",
    "# other information:\n",
    "print(some_graph.nodes[node].keys())\n",
    "print(some_graph.edges[edge].keys())\n",
    "print(\"image_id:\", some_graph.image_id)\n",
    "print(\"image dimensions:\", some_graph.image_w, some_graph.image_h)\n",
    "# use this copy function to make a copy of the graph, because much faster than deepcopy and normal copy doesn't copy everything\n",
    "some_graph_copy = rige.copy_graph(some_graph)"
   ]
  },
  {
   "cell_type": "code",
   "execution_count": 4,
   "metadata": {},
   "outputs": [],
   "source": [
    "from PIL import Image\n",
    "images = []\n",
    "graphs = []\n",
    "for i in range(10):\n",
    "    graph = next(iter(dataloader_one))[0]\n",
    "    image_id = graph.image_id\n",
    "    # adapt to your local directory\n",
    "    IMAGE_DIR = '/local/home/jthomm/GraphCLIP/datasets/visual_genome/raw/VG/'\n",
    "    image = Image.open(IMAGE_DIR + str(image_id) + '.jpg')\n",
    "    images.append(image)\n",
    "    graphs.append(graph)"
   ]
  },
  {
   "attachments": {},
   "cell_type": "markdown",
   "metadata": {},
   "source": [
    "The ViT finetuned models: For each graph you evaluate they give you a relationship probability confidence and an attribute probability confidence. Both are the mean confidences for the relationships and attributes of the graph you give in.\n",
    "\n",
    "In many graphs, there are no attributes, in this case, 'noattributes' os given back instead of a numerical score. Same behaviour for edges."
   ]
  },
  {
   "cell_type": "code",
   "execution_count": 5,
   "metadata": {},
   "outputs": [
    {
     "name": "stdout",
     "output_type": "stream",
     "text": [
      "{'rel_scores': [0.3381844162940979, 0.016545556485652924, 0.7016329169273376, 0.38774237036705017, 0.03416311368346214, 0.012142871506512165, 0.7594617605209351, 0.6007148623466492, 0.01968073472380638, 0.6791365146636963], 'attr_scores': [0.756584882736206, 0.7096579670906067, 'noattributes', 'noattributes', 0.4308685064315796, 0.3934137225151062, 'noattributes', 0.8246681094169617, 0.5452541708946228, 0.956260621547699]}\n",
      "dict_keys(['rel_scores', 'attr_scores'])\n"
     ]
    }
   ],
   "source": [
    "scores = evaluator(images,graphs)\n",
    "print(scores)\n",
    "print(scores.keys())"
   ]
  },
  {
   "cell_type": "code",
   "execution_count": null,
   "metadata": {},
   "outputs": [],
   "source": []
  }
 ],
 "metadata": {
  "kernelspec": {
   "display_name": "evaltestenv",
   "language": "python",
   "name": "python3"
  },
  "language_info": {
   "codemirror_mode": {
    "name": "ipython",
    "version": 3
   },
   "file_extension": ".py",
   "mimetype": "text/x-python",
   "name": "python",
   "nbconvert_exporter": "python",
   "pygments_lexer": "ipython3",
   "version": "3.9.13"
  },
  "orig_nbformat": 4
 },
 "nbformat": 4,
 "nbformat_minor": 2
}
