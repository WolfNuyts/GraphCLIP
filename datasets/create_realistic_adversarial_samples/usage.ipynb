{
 "cells": [
  {
   "cell_type": "code",
   "execution_count": 1,
   "metadata": {},
   "outputs": [],
   "source": [
    "import sys\n",
    "sys.path.append(\"..\")\n",
    "import VG_graphs\n",
    "from VG_graphs import copy_graph, get_realistic_graphs_dataset, plot_graph\n",
    "import networkx as nx\n",
    "import matplotlib.pyplot as plt\n",
    "import random"
   ]
  },
  {
   "cell_type": "code",
   "execution_count": 2,
   "metadata": {},
   "outputs": [],
   "source": [
    "dataset = get_realistic_graphs_dataset('v2')"
   ]
  },
  {
   "cell_type": "code",
   "execution_count": null,
   "metadata": {},
   "outputs": [],
   "source": [
    "random.shuffle(dataset)\n",
    "sample = dataset[0]\n",
    "original_graph = sample['original_graph']\n",
    "adv_graph = sample['adv_graph']\n",
    "changed_edge = sample['changed_edge']\n",
    "adv_predicate = sample['adv_predicate']\n",
    "plot_graph(original_graph)\n",
    "plot_graph(adv_graph)\n",
    "print(\"original_predicate: \", original_graph.edges[changed_edge]['predicate'])\n",
    "print(\"adv_predicate: \", adv_graph.edges[changed_edge]['predicate'])\n",
    "print(\"image_id: \", sample['original_graph'].image_id)"
   ]
  },
  {
   "cell_type": "code",
   "execution_count": 4,
   "metadata": {},
   "outputs": [],
   "source": [
    "list_dict_for_json = []\n",
    "for d in dataset:\n",
    "    original_graph = d['original_graph']\n",
    "    adv_graph = d['adv_graph']\n",
    "    changed_edge = d['changed_edge']\n",
    "    adv_predicate = d['adv_predicate']\n",
    "    image_id = original_graph.image_id\n",
    "    list_dict_for_json.append({\n",
    "        'image_id': image_id,\n",
    "        'changed_edge_subj': changed_edge[0],\n",
    "        'changed_edge_obj': changed_edge[1],\n",
    "        'original_predicate': original_graph.edges[changed_edge]['predicate'],\n",
    "        'adv_predicate': adv_predicate,\n",
    "        'subj_x': original_graph.nodes[changed_edge[0]]['x'],\n",
    "        'subj_y': original_graph.nodes[changed_edge[0]]['y'],\n",
    "        'subj_name': original_graph.nodes[changed_edge[0]]['name'],\n",
    "        'subj_w': original_graph.nodes[changed_edge[0]]['w'],\n",
    "        'subj_h': original_graph.nodes[changed_edge[0]]['h'],\n",
    "        'obj_x': original_graph.nodes[changed_edge[1]]['x'],\n",
    "        'obj_y': original_graph.nodes[changed_edge[1]]['y'],\n",
    "        'obj_name': original_graph.nodes[changed_edge[1]]['name'],\n",
    "        'obj_w': original_graph.nodes[changed_edge[1]]['w'],\n",
    "        'obj_h': original_graph.nodes[changed_edge[1]]['h'],\n",
    "    })\n",
    "import json\n",
    "with open('realistic_adversarial_samples2.json', 'w') as f:\n",
    "    json.dump(list_dict_for_json, f)\n"
   ]
  },
  {
   "cell_type": "code",
   "execution_count": null,
   "metadata": {},
   "outputs": [],
   "source": []
  }
 ],
 "metadata": {
  "kernelspec": {
   "display_name": "jtpython",
   "language": "python",
   "name": "python3"
  },
  "language_info": {
   "codemirror_mode": {
    "name": "ipython",
    "version": 3
   },
   "file_extension": ".py",
   "mimetype": "text/x-python",
   "name": "python",
   "nbconvert_exporter": "python",
   "pygments_lexer": "ipython3",
   "version": "3.10.10"
  },
  "orig_nbformat": 4
 },
 "nbformat": 4,
 "nbformat_minor": 2
}
